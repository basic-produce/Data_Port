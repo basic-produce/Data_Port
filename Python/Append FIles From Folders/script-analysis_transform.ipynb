{
 "cells": [
  {
   "cell_type": "code",
   "execution_count": 135,
   "metadata": {},
   "outputs": [],
   "source": [
    "import pandas as pd\n",
    "import os\n",
    "from openpyxl import load_workbook"
   ]
  },
  {
   "cell_type": "code",
   "execution_count": 136,
   "metadata": {},
   "outputs": [],
   "source": [
    "folder_path = \"C:\\\\Users\\\\phamt\\\\Downloads\\\\temp\\\\PQ Databse Append test\\\\Data\""
   ]
  },
  {
   "cell_type": "code",
   "execution_count": 137,
   "metadata": {},
   "outputs": [],
   "source": [
    "def fill_nulls_and_combine_headers(sheet):\n",
    "    max_col = sheet.max_column\n",
    "    # Initialize headers from the first row for combination\n",
    "    headers_first_row = [sheet.cell(row=1, column=col).value for col in range(1, max_col + 1)]\n",
    "    # Use second row values directly for the first two columns\n",
    "    headers_second_row = [sheet.cell(row=2, column=col).value for col in range(1, max_col + 1)]\n",
    "    headers_for_first_two = headers_second_row[:2]\n",
    "    \n",
    "    # Fill nulls in the first row with the previous non-null values for other columns\n",
    "    for i in range(2, len(headers_first_row)):\n",
    "        if headers_first_row[i] is None and headers_first_row[i-1] is not None:\n",
    "            headers_first_row[i] = headers_first_row[i-1]\n",
    "            \n",
    "    # Combine first row (with no nulls) and second row for columns beyond the first two\n",
    "    combined_headers = headers_for_first_two + [f\"{headers_first_row[i]} - {headers_second_row[i]}\" if headers_first_row[i] is not None else headers_second_row[i] for i in range(2, len(headers_first_row))]\n",
    "    \n",
    "    return combined_headers"
   ]
  },
  {
   "cell_type": "code",
   "execution_count": 138,
   "metadata": {},
   "outputs": [],
   "source": [
    "def read_excel_sheets(filename, folder_path):\n",
    "    file_path = os.path.join(folder_path, filename)\n",
    "    wb = load_workbook(file_path, data_only=True)\n",
    "    all_data = []\n",
    "    for sheetname in wb.sheetnames:\n",
    "        if sheetname == \"Overview\":\n",
    "            continue  # Skip the \"Overview\" sheet\n",
    "        sheet = wb[sheetname]\n",
    "        headers = fill_nulls_and_combine_headers(sheet)\n",
    "        data = pd.DataFrame(sheet.values)\n",
    "        # Skip the first two header rows, apply the headers\n",
    "        data = data.iloc[2:]\n",
    "        data.columns = headers\n",
    "        all_data.append(data)\n",
    "    wb.close()\n",
    "    # Combine all sheets data from the current file and add 'Filename' as the last column\n",
    "    return pd.concat(all_data, ignore_index=True)"
   ]
  },
  {
   "cell_type": "code",
   "execution_count": 139,
   "metadata": {},
   "outputs": [],
   "source": [
    "def process_excel_files(folder_path):\n",
    "    all_files_data = []\n",
    "    # Iterate through each file in the folder, skipping those that start with \"~\"\n",
    "    for filename in os.listdir(folder_path):\n",
    "        if filename.endswith(\".xlsx\") and not filename.startswith(\"~\"):\n",
    "            all_files_data.append(read_excel_sheets(filename, folder_path))\n",
    "    # Combine all data into a single DataFrame\n",
    "    combined_data = pd.concat(all_files_data, ignore_index=True)\n",
    "    combined_data['Filename'] = filename  # Add filename column at the end\n",
    "    return combined_data"
   ]
  },
  {
   "cell_type": "code",
   "execution_count": 140,
   "metadata": {},
   "outputs": [],
   "source": [
    "filename_column = combined_data.pop('Filename')\n",
    "combined_data['Filename'] = filename_column"
   ]
  },
  {
   "cell_type": "code",
   "execution_count": 141,
   "metadata": {},
   "outputs": [
    {
     "name": "stdout",
     "output_type": "stream",
     "text": [
      "   DOW        Date OTB - Occ %   OTB - ADR OTB - Rms OTB - Revenue  \\\n",
      "0  Thu  2024-02-01     0.88785  214.879158        95      20413.52   \n",
      "1  Fri  2024-02-02    0.962617   247.00233       103      25441.24   \n",
      "2  Sat  2024-02-03    0.859813   176.73337        92      16259.47   \n",
      "3  Sun  2024-02-04    0.934579    211.5221       100      21152.21   \n",
      "4  Mon  2024-02-05    0.953271  218.213333       102      22257.76   \n",
      "\n",
      "  SDLY - Occ %  SDLY - ADR SDLY - Rms SDLY - Revenue  ...  \\\n",
      "0     0.831776  157.650337         89       14030.88  ...   \n",
      "1     0.831776  183.573034         89        16338.0  ...   \n",
      "2     0.850467   204.13022         91       18575.85  ...   \n",
      "3     0.570093  144.743279         61        8829.34  ...   \n",
      "4     0.728972  172.534103         78       13457.66  ...   \n",
      "\n",
      "  Compset - Veriu Central Compset - YEHS Hotel Sydney CBD  \\\n",
      "0                     240                             191   \n",
      "1                     260                             203   \n",
      "2                     305                               0   \n",
      "3                       0                               0   \n",
      "4                       0                               0   \n",
      "\n",
      "  Group TY OTB - Rooms Group TY OTB - ADR Group LY Actual - Rooms  \\\n",
      "0                  NaN                NaN                     NaN   \n",
      "1                  NaN                NaN                     NaN   \n",
      "2                  NaN                NaN                     NaN   \n",
      "3                  NaN                NaN                     NaN   \n",
      "4                  NaN                NaN                     NaN   \n",
      "\n",
      "  Group LY Actual - ADR Group Variance - Rooms Group Variance - ADR  \\\n",
      "0                   NaN                    NaN                  NaN   \n",
      "1                   NaN                    NaN                  NaN   \n",
      "2                   NaN                    NaN                  NaN   \n",
      "3                   NaN                    NaN                  NaN   \n",
      "4                   NaN                    NaN                  NaN   \n",
      "\n",
      "  7 Day - Grp p/u                                           Filename  \n",
      "0             NaN  01.30.24 - Pickup Analysis - Customer Trial Pr...  \n",
      "1             NaN  01.30.24 - Pickup Analysis - Customer Trial Pr...  \n",
      "2             NaN  01.30.24 - Pickup Analysis - Customer Trial Pr...  \n",
      "3             NaN  01.30.24 - Pickup Analysis - Customer Trial Pr...  \n",
      "4             NaN  01.30.24 - Pickup Analysis - Customer Trial Pr...  \n",
      "\n",
      "[5 rows x 49 columns]\n"
     ]
    }
   ],
   "source": [
    "print(combined_data.head())\n",
    "combined_data.to_excel(\"combined_data.xlsx\", index=False)"
   ]
  }
 ],
 "metadata": {
  "kernelspec": {
   "display_name": "Python 3",
   "language": "python",
   "name": "python3"
  },
  "language_info": {
   "codemirror_mode": {
    "name": "ipython",
    "version": 3
   },
   "file_extension": ".py",
   "mimetype": "text/x-python",
   "name": "python",
   "nbconvert_exporter": "python",
   "pygments_lexer": "ipython3",
   "version": "3.10.0"
  }
 },
 "nbformat": 4,
 "nbformat_minor": 2
}
